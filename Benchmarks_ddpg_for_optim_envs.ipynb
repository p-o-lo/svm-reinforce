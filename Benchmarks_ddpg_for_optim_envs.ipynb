{
 "cells": [
  {
   "cell_type": "markdown",
   "id": "8bfc434b",
   "metadata": {},
   "source": [
    "# Benchmarcks and plots of SVM DDPG optim envs"
   ]
  },
  {
   "cell_type": "code",
   "execution_count": null,
   "id": "e806a15b",
   "metadata": {},
   "outputs": [],
   "source": [
    "import matplotlib.pyplot as plt\n",
    "import numpy as np\n",
    "import os\n",
    "import glob\n",
    "import pickle\n",
    "\n",
    "%matplotlib qt"
   ]
  },
  {
   "cell_type": "code",
   "execution_count": null,
   "id": "0dc07886",
   "metadata": {},
   "outputs": [],
   "source": [
    "## All the data stored in the run folder file\n",
    "run = 'run_5/'\n",
    "name_dir = 'runs_optim_envs/'+run\n",
    "\n",
    "## print info of this run\n",
    "info = pickle.load(open(name_dir+'info.p', 'rb'))\n",
    "for k in info.keys():\n",
    "    print(k, ' : ', info[k])"
   ]
  },
  {
   "cell_type": "code",
   "execution_count": null,
   "id": "4e148493",
   "metadata": {},
   "outputs": [],
   "source": [
    "## Example of data stored and number of episodes\n",
    "rew_files = name_dir+'rew*'\n",
    "num_ep = len(glob.glob(rew_files))\n",
    "print('The number of episodes is then:', num_ep)"
   ]
  },
  {
   "cell_type": "code",
   "execution_count": null,
   "id": "833e64cf",
   "metadata": {},
   "outputs": [],
   "source": [
    "## Score data analysis\n",
    "scores = np.zeros(num_ep)\n",
    "for i in range(num_ep):\n",
    "    rew = pickle.load(open(name_dir+f'rew_{i}.p', 'rb'))\n",
    "    scores[i] = np.sum(rew)\n",
    "    \n",
    "## Max and min\n",
    "index_max = np.argmax(scores)\n",
    "index_min = np.argmin(scores)\n",
    "print(f'The max score is at episode {index_max} and is equal to {scores[index_max]}')\n",
    "print(f'The min score is at episode {index_min} and is equal to {scores[index_min]}')\n",
    "    \n",
    "## Plot scores    \n",
    "plt.plot(np.arange(len(scores)), scores)\n",
    "plt.ylabel('Score')\n",
    "plt.xlabel('Episode #')"
   ]
  },
  {
   "cell_type": "code",
   "execution_count": null,
   "id": "dc5056be",
   "metadata": {},
   "outputs": [],
   "source": [
    "## Energies data analysis\n",
    "last_en_per_ep = np.zeros(num_ep)\n",
    "for i in range(num_ep):\n",
    "    en_ep = pickle.load(open(name_dir+f'en_{i}.p', 'rb'))\n",
    "    last_en_per_ep[i] = en_ep[-1]\n",
    "    \n",
    "## Max and min\n",
    "index_min = np.argmin(last_en_per_ep)\n",
    "index_max = np.argmax(last_en_per_ep)\n",
    "print(f'The min en (BEST CASE) is at episode {index_min} and is equal to {last_en_per_ep[index_min]}')\n",
    "print(pickle.load(open(name_dir+f'en_{index_min}.p', 'rb')))\n",
    "print(f'The max en (WORST CASE) is at episode {index_max} and is equal to {last_en_per_ep[index_max]}')\n",
    "print(pickle.load(open(name_dir+f'en_{index_max}.p', 'rb')))\n",
    "    \n",
    "## Plot scores    \n",
    "plt.plot(np.arange(len(last_en_per_ep)), last_en_per_ep)\n",
    "plt.ylabel('Energy (K)')\n",
    "plt.xlabel('Episode #')"
   ]
  },
  {
   "cell_type": "code",
   "execution_count": null,
   "id": "5f94fb69",
   "metadata": {},
   "outputs": [],
   "source": [
    "## Pri dims data analysis\n",
    "last_pri_per_ep = np.zeros(num_ep)\n",
    "for i in range(num_ep):\n",
    "    pri_ep = pickle.load(open(name_dir+f'pri_dim_{i}.p', 'rb'))\n",
    "    last_pri_per_ep[i] = pri_ep[-1]\n",
    "    \n",
    "## Max and min\n",
    "index_max = np.argmax(last_pri_per_ep)\n",
    "index_min = np.argmin(last_pri_per_ep)\n",
    "print(f'The biggest pri dim (BEST CASE) is at episode {index_max} and is equal to {last_pri_per_ep[index_max]}')\n",
    "print(pickle.load(open(name_dir+f'pri_dim_{index_max}.p', 'rb')))\n",
    "print(f'The max en (WORST CASE) is at episode {index_min} and is equal to {last_pri_per_ep[index_min]}')\n",
    "print(pickle.load(open(name_dir+f'pri_dim_{index_min}.p', 'rb')))\n",
    "    \n",
    "## Plot scores    \n",
    "plt.plot(np.arange(len(last_pri_per_ep)), last_pri_per_ep)\n",
    "plt.ylabel('Pri dim size')\n",
    "plt.xlabel('Episode #')"
   ]
  },
  {
   "cell_type": "code",
   "execution_count": null,
   "id": "5d8756ea",
   "metadata": {},
   "outputs": [],
   "source": [
    "## Rewards of episode with max score\n",
    "file_rew_max = name_dir+f'rew_{index_max}.p'\n",
    "rew_max = pickle.load(open(file_rew_max, 'rb'))\n",
    "plt.plot(np.arange(len(rew_max)), rew_max)\n",
    "plt.ylabel('Reward')\n",
    "plt.xlabel('Step #')\n",
    "\n",
    "print('This episode collected a score of = ', np.sum(rew_max))"
   ]
  },
  {
   "cell_type": "code",
   "execution_count": null,
   "id": "415f4ea9",
   "metadata": {},
   "outputs": [],
   "source": [
    "## Plot energies of episode with max score\n",
    "file_en_max = name_dir+f'en_{index_max}.p'\n",
    "en_max = pickle.load(open(file_en_max, 'rb'))\n",
    "plt.plot(np.arange(len(en_max)), en_max)\n",
    "plt.ylabel('Energy')\n",
    "plt.xlabel('Step #')\n",
    "\n",
    "print('The last energy of the episode with max score is = ', en_max[-1])"
   ]
  },
  {
   "cell_type": "code",
   "execution_count": null,
   "id": "27d0a644",
   "metadata": {},
   "outputs": [],
   "source": [
    "## Plot princip dim of episode with max score\n",
    "\n",
    "file_pri_max = name_dir+f'pri_dim_{index_max}.p'\n",
    "pri_max = pickle.load(open(file_pri_max, 'rb'))\n",
    "plt.plot(np.arange(len(pri_max)), pri_max)\n",
    "plt.ylabel('Pri dims')\n",
    "plt.xlabel('Step #')\n",
    "\n",
    "print('The last prin dim of the episode with max score is = ', pri_max[-1])"
   ]
  },
  {
   "cell_type": "code",
   "execution_count": null,
   "id": "b0f42576",
   "metadata": {},
   "outputs": [],
   "source": [
    "## Plot full dim of episode with max score\n",
    "\n",
    "file_full_max = name_dir+f'full_dim_{index_max}.p'\n",
    "full_max = pickle.load(open(file_full_max, 'rb'))\n",
    "plt.plot(np.arange(len(full_max)), full_max)\n",
    "plt.ylabel('Full dims')\n",
    "plt.xlabel('Step #')\n",
    "\n",
    "print('The last full dim of the episode with max score is = ', full_max[-1])"
   ]
  },
  {
   "cell_type": "code",
   "execution_count": null,
   "id": "86b2c7c2",
   "metadata": {},
   "outputs": [],
   "source": [
    "## Sigmas analysis (comparing with random and the one collected in the epsidoe with max score)\n",
    "\n",
    "sigmas_random = np.loadtxt('sigmas_random.out')\n",
    "sigmas_random_squared = sigmas_random[:,0]**2 + sigmas_random[:,1]**2 + sigmas_random[:,2]**2\n",
    "\n",
    "file_sigmas_max = name_dir+f'sigmas_{index_max}.p'\n",
    "sigmas_rl = pickle.load(open(file_sigmas_max, 'rb'))[-1]\n",
    "sigmas_rl = sigmas_rl * 55.0 + 55.0\n",
    "\n",
    "sigmas_rl_squared = sigmas_rl[:,0]**2 + sigmas_rl[:,1]**2 + sigmas_rl[:,2]**2\n",
    "\n",
    "plt.hist(sigmas_random_squared, bins=10, alpha=0.5)\n",
    "plt.hist(sigmas_rl_squared, bins=10, alpha=0.5)"
   ]
  },
  {
   "cell_type": "code",
   "execution_count": null,
   "id": "4b878de5",
   "metadata": {},
   "outputs": [],
   "source": [
    "## Rewards of episode with min score\n",
    "file_rew_min = name_dir+f'rew_{index_min}.p'\n",
    "rew_min = pickle.load(open(file_rew_min, 'rb'))\n",
    "plt.plot(np.arange(len(rew_min)), rew_min)\n",
    "plt.ylabel('Reward')\n",
    "plt.xlabel('Step #')\n",
    "\n",
    "print('This episode collected a score of = ', np.sum(rew_min))"
   ]
  },
  {
   "cell_type": "code",
   "execution_count": null,
   "id": "7e43c8f6",
   "metadata": {},
   "outputs": [],
   "source": [
    "## Plot energies of episode with min score\n",
    "file_en_min = name_dir+f'en_{index_min}.p'\n",
    "en_min = pickle.load(open(file_en_min, 'rb'))\n",
    "plt.plot(np.arange(len(en_min)), en_min)\n",
    "plt.ylabel('Energy (K)')\n",
    "plt.xlabel('Step #')\n",
    "\n",
    "print('The last energy of the episode with min score is = ', en_min[-1])"
   ]
  },
  {
   "cell_type": "code",
   "execution_count": null,
   "id": "1de44eed",
   "metadata": {},
   "outputs": [],
   "source": [
    "## Plot princip dim of episode with min score\n",
    "\n",
    "file_pri_min = name_dir+f'pri_dim_{index_min}.p'\n",
    "pri_min = pickle.load(open(file_pri_min, 'rb'))\n",
    "plt.plot(np.arange(len(pri_min)), pri_min)\n",
    "plt.ylabel('Pri dims')\n",
    "plt.xlabel('Step #')\n",
    "\n",
    "print('The last prin dim of the episode with min score is = ', pri_min[-1])"
   ]
  },
  {
   "cell_type": "code",
   "execution_count": null,
   "id": "2f530daf",
   "metadata": {},
   "outputs": [],
   "source": [
    "## Plot full dim of episode with min score\n",
    "\n",
    "file_full_min = name_dir+f'full_dim_{index_min}.p'\n",
    "full_min = pickle.load(open(file_full_min, 'rb'))\n",
    "plt.plot(np.arange(len(full_min)), full_min)\n",
    "plt.ylabel('Full dims')\n",
    "plt.xlabel('Step #')\n",
    "\n",
    "print('The last full dim of the episode with max score is = ', full_min[-1])"
   ]
  },
  {
   "cell_type": "code",
   "execution_count": null,
   "id": "8b5832e0",
   "metadata": {},
   "outputs": [],
   "source": [
    "## Sigmas analysis (comparing with random and the one collected in the epsidoe with max score)\n",
    "\n",
    "sigmas_random = np.loadtxt('sigmas_random.out')\n",
    "sigmas_random_squared = sigmas_random[:,0]**2 + sigmas_random[:,1]**2 + sigmas_random[:,2]**2\n",
    "\n",
    "file_sigmas_min = name_dir+f'sigmas_{index_min}.p'\n",
    "sigmas_rl = pickle.load(open(file_sigmas_min, 'rb'))[-1]\n",
    "sigmas_rl = sigmas_rl * 55.0 + 55.0\n",
    "\n",
    "sigmas_rl_squared = sigmas_rl[:,0]**2 + sigmas_rl[:,1]**2 + sigmas_rl[:,2]**2\n",
    "\n",
    "plt.hist(sigmas_random_squared, bins=15, alpha=0.5)\n",
    "plt.hist(sigmas_rl_squared, bins=15, alpha=0.5)"
   ]
  },
  {
   "cell_type": "code",
   "execution_count": null,
   "id": "67a4ff31",
   "metadata": {},
   "outputs": [],
   "source": []
  }
 ],
 "metadata": {
  "kernelspec": {
   "display_name": "Python 3",
   "language": "python",
   "name": "python3"
  },
  "language_info": {
   "codemirror_mode": {
    "name": "ipython",
    "version": 3
   },
   "file_extension": ".py",
   "mimetype": "text/x-python",
   "name": "python",
   "nbconvert_exporter": "python",
   "pygments_lexer": "ipython3",
   "version": "3.8.8"
  }
 },
 "nbformat": 4,
 "nbformat_minor": 5
}
