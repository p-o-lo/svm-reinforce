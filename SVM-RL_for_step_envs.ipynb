{
 "cells": [
  {
   "cell_type": "markdown",
   "id": "8994df9d",
   "metadata": {},
   "source": [
    "# Stochastic Variational Method with RL (ddpg and ppo) algorithms with step envs"
   ]
  },
  {
   "cell_type": "code",
   "execution_count": null,
   "id": "9a46171d",
   "metadata": {},
   "outputs": [],
   "source": [
    "import numpy as np\n",
    "import gym\n",
    "import torch\n",
    "import subprocess\n",
    "import os\n",
    "import h5py"
   ]
  },
  {
   "cell_type": "markdown",
   "id": "dc8829f8",
   "metadata": {},
   "source": [
    "## Expoloring environment"
   ]
  },
  {
   "cell_type": "code",
   "execution_count": null,
   "id": "0f3a490c",
   "metadata": {},
   "outputs": [],
   "source": [
    "env = gym.make('svm_env:svmEnv-v1', file_sigmas =\"./svmCodeSVD/sigmas.dat\" )\n",
    "\n",
    "print('### Env Name ######', env.unwrapped.spec.id)\n",
    "\n",
    "obs_space = env.observation_space\n",
    "\n",
    "print('###### Observation space ####### \\n', obs_space)\n",
    "\n",
    "state_size = env.observation_space.shape[-1]\n",
    "\n",
    "print('###### Size of observation space ####### \\n', state_size)\n",
    "\n",
    "act_space = env.action_space\n",
    "\n",
    "print('###### Action space ####### \\n', act_space)\n",
    "\n",
    "act_size = env.action_space.shape[-1]\n",
    "\n",
    "print('###### Number of actions ####### \\n', act_size)\n",
    "\n",
    "state = env.reset()\n",
    "\n",
    "print('##### State after reset ###### \\n', state)\n",
    "\n",
    "print('##### File where will be stored sigmas \\n', env.file_sigmas)"
   ]
  },
  {
   "cell_type": "markdown",
   "id": "bae415ae",
   "metadata": {},
   "source": [
    "# Your codes `DDPG` and `PPO`"
   ]
  },
  {
   "cell_type": "markdown",
   "id": "92e81b78",
   "metadata": {},
   "source": [
    "## Functions for saving `ddpg` and clean"
   ]
  },
  {
   "cell_type": "code",
   "execution_count": null,
   "id": "1a586189",
   "metadata": {},
   "outputs": [],
   "source": [
    "## Save all rewards, energies and princip dims in files during training\n",
    "def create_info_h5(agent, env):\n",
    "    # Check if file exist and creat it\n",
    "    i = 0\n",
    "    while os.path.exists(f'runs_step_envs/run_{i}.hdf5'):\n",
    "        i += 1\n",
    "    dataFile = h5py.File(f'runs_step_envs/run_{i}.hdf5', 'a')\n",
    "    \n",
    "    # Create dataset to store info in hdf5 file\n",
    "    info = {'alg':agent.name, 'env':env.unwrapped.spec.id}\n",
    "    st = h5py.string_dtype(encoding='utf-8')\n",
    "    dataFile.create_dataset('info', dtype=st)\n",
    "    for k in info.keys():\n",
    "        dataFile['info'].attrs[k] = info[k]\n",
    "\n",
    "    # Create dataset to store hyperparams of the model in hdf5 file\n",
    "    hyperparams = {'batch_size':agent.batch_size, 'bootstrap_size':agent.bootstrap_size \\\n",
    "                   , 'gamma':agent.gamma, 'tau':agent.tau,'lr_critic':agent.lr_critic \\\n",
    "                  , 'lr_actor':agent.lr_actor, 'update_every':agent.update_every \\\n",
    "                   , 'transfer_every':agent.transfer_every, 'num_update':agent.num_update \\\n",
    "                  , 'add_noise_every':agent.add_noise_every}\n",
    "    dataFile.create_dataset('hyperparams', dtype='f')\n",
    "    for k in hyperparams.keys():\n",
    "        dataFile['hyperparams'].attrs[k] = hyperparams[k]\n",
    "    \n",
    "    # Create group for rewards, energies, princip dims, actor and critic model\n",
    "    dataFile.create_group('sigmas')\n",
    "    dataFile.create_group('rewards')\n",
    "    dataFile.create_group('energies')\n",
    "    dataFile.create_group('princip_dims')\n",
    "    dataFile.create_group('actor_models')\n",
    "    dataFile.create_group('critic_models')\n",
    "    \n",
    "    # Close and return data file name\n",
    "    dataFile_name = dataFile.filename\n",
    "    dataFile.close()\n",
    "    \n",
    "    return dataFile_name\n",
    "\n",
    "def save_all(dat_file_name, i_ep, sigmas_i_ep, rew_i_ep, en_i_ep, pri_dim_i_ep \\\n",
    "             , act_model_i_ep, cr_model_i_ep):\n",
    "    # Open data file\n",
    "    dat_file = h5py.File(dat_file_name, 'a')\n",
    "    \n",
    "    # Create datasets for rewards, energies, pri dim and store data in it \n",
    "    dat_file['sigmas'].create_dataset(f'sigmas_ep_{i_ep}', dtype='f', data=sigmas_i_ep)\n",
    "    dat_file['rewards'].create_dataset(f'rew_ep_{i_ep}', dtype='f', data=rew_i_ep)\n",
    "    dat_file['energies'].create_dataset(f'en_ep_{i_ep}', dtype='f', data=en_i_ep)\n",
    "    dat_file['princip_dims'].create_dataset(f'pri_dim_ep_{i_ep}', dtype='i', data=pri_dim_i_ep)\n",
    "    \n",
    "    # Store in actor models group the network params at each ep\n",
    "    actor_model = torch.load(act_model_i_ep)\n",
    "    dat_file['actor_models'].create_dataset(f'act_mod_{i_ep}', dtype='f')\n",
    "    for k in actor_model.keys():\n",
    "        dat_file['actor_models'][f'act_mod_{i_ep}'].attrs.create(name=k,data=actor_model[k].cpu().data.numpy())\n",
    "    \n",
    "    # Store in actor models group the network params at each ep\n",
    "    critic_model = torch.load(cr_model_i_ep)\n",
    "    dat_file['critic_models'].create_dataset(f'cri_mod_{i_ep}', dtype='f')\n",
    "    for k in critic_model.keys():\n",
    "        dat_file['critic_models'][f'cri_mod_{i_ep}'].attrs.create(name=k,data=critic_model[k].cpu().data.numpy())\n",
    "    \n",
    "    # Close data file\n",
    "    dat_file.close()\n",
    "    \n",
    "def rm_useless_file(actor_model_file, critic_model_file, file_sigmas):\n",
    "    os.remove(actor_model_file)\n",
    "    os.remove(critic_model_file)\n",
    "    os.remove(file_sigmas)"
   ]
  },
  {
   "cell_type": "markdown",
   "id": "86c58121",
   "metadata": {},
   "source": [
    "## From my `ddpg_agent.py` code"
   ]
  },
  {
   "cell_type": "code",
   "execution_count": null,
   "id": "f3f8f218",
   "metadata": {},
   "outputs": [],
   "source": [
    "from ddpg_agent import DDPG_agent\n",
    "agent = DDPG_agent(state_size, act_size, seed = 0)"
   ]
  },
  {
   "cell_type": "code",
   "execution_count": null,
   "id": "2fc90e22",
   "metadata": {},
   "outputs": [],
   "source": [
    "## Run ddpg algs   \n",
    "def run_ddpg(max_t_step = 10, n_episodes=10):\n",
    "    \n",
    "    # Create h5 file and store info about alg and its hypereparams\n",
    "    dat_file_name = create_info_h5(agent, env)\n",
    "    \n",
    "    for i_ep in range(n_episodes):\n",
    "        state = env.reset()\n",
    "        agent.reset()\n",
    "        rew_i_ep = []\n",
    "        en_i_ep = []\n",
    "        pri_dim_i_ep = []\n",
    "\n",
    "        ## Training loop of each episode\n",
    "        for t_step in range(max_t_step):\n",
    "            action = agent.act(state)\n",
    "            next_state, reward, done, info = env.step(action)\n",
    "            agent.step(state, action, reward, next_state, done)\n",
    "            state = next_state\n",
    "\n",
    "            # Save rew, energies, princip dims, act and crit models\n",
    "            rew_i_ep.append(reward)\n",
    "            en_i_ep.append(state[0])\n",
    "            pri_dim_i_ep.append(env.princp_dim)\n",
    "            torch.save(agent.actor_local.state_dict(), 'checkpoint_actor.pth')\n",
    "            torch.save(agent.critic_local.state_dict(), 'checkpoint_critic.pth')\n",
    "            if done:\n",
    "                break\n",
    "                \n",
    "        ## Save data during training (to not lose the work done)\n",
    "        save_all(dat_file_name=dat_file_name, i_ep=int(i_ep), sigmas_i_ep=env.actions_taken \\\n",
    "                 , rew_i_ep=rew_i_ep, en_i_ep=en_i_ep, pri_dim_i_ep=pri_dim_i_ep \\\n",
    "                 , act_model_i_ep='checkpoint_actor.pth', cr_model_i_ep='checkpoint_critic.pth')\n",
    "        \n",
    "        print('Episode {} ... Score: {:.3f}'.format(i_ep, np.sum(rew_i_ep)))\n",
    "\n",
    "    rm_useless_file('checkpoint_actor.pth', 'checkpoint_critic.pth', env.file_sigmas)\n",
    "    return dat_file_name"
   ]
  },
  {
   "cell_type": "code",
   "execution_count": null,
   "id": "051cc27e",
   "metadata": {},
   "outputs": [],
   "source": [
    "all_data = run_ddpg(10, 10)"
   ]
  },
  {
   "cell_type": "markdown",
   "id": "c3be8d35",
   "metadata": {},
   "source": [
    "## Function for saving with `ppo` agent"
   ]
  },
  {
   "cell_type": "code",
   "execution_count": null,
   "id": "b8239774",
   "metadata": {},
   "outputs": [],
   "source": [
    "def create_info_h5_ppo(agent, env):\n",
    "    # Check if file exist and creat it\n",
    "    i = 0\n",
    "    while os.path.exists(f'runs_step_envs/run_{i}.hdf5'):\n",
    "        i += 1\n",
    "    dataFile = h5py.File(f'runs_step_envs/run_{i}.hdf5', 'a')\n",
    "    \n",
    "    # Create dataset to store info in hdf5 file\n",
    "    info = {'alg':agent.name, 'env':env.unwrapped.spec.id}\n",
    "    st = h5py.string_dtype(encoding='utf-8')\n",
    "    dataFile.create_dataset('info', dtype=st)\n",
    "    for k in info.keys():\n",
    "        dataFile['info'].attrs[k] = info[k]\n",
    "\n",
    "    # Create dataset to store hyperparams of the model in hdf5 file\n",
    "    hyperparams = {'lambda_gae':agent.lambda_gae ,'gamma':agent.gamma \\\n",
    "            , 'clip':agent.clip,'lr_critic':agent.lr_critic \\\n",
    "            , 'lr_actor':agent.lr_actor, 'num_update':agent.num_update \\\n",
    "            , 'add_noise_every':agent.add_noise_every}\n",
    "    dataFile.create_dataset('hyperparams', dtype='f')\n",
    "    for k in hyperparams.keys():\n",
    "        dataFile['hyperparams'].attrs[k] = hyperparams[k]\n",
    "    \n",
    "    # Create group for rewards, energies, princip dims, actor and critic model\n",
    "    dataFile.create_group('sigmas')\n",
    "    dataFile.create_group('rewards')\n",
    "    dataFile.create_group('energies')\n",
    "    dataFile.create_group('princip_dims')\n",
    "    dataFile.create_group('actor_models')\n",
    "    dataFile.create_group('critic_models')\n",
    "    \n",
    "    # Close and return data file name\n",
    "    dataFile_name = dataFile.filename\n",
    "    dataFile.close()\n",
    "    \n",
    "    return dataFile_name"
   ]
  },
  {
   "cell_type": "markdown",
   "id": "81b84cf7",
   "metadata": {},
   "source": [
    "## Run my `ppo_agent.py`"
   ]
  },
  {
   "cell_type": "code",
   "execution_count": null,
   "id": "6ea0b4ce",
   "metadata": {},
   "outputs": [],
   "source": [
    "from ppo_agent import PPO_agent\n",
    "agent = PPO_agent(state_size, act_size, seed = 0)"
   ]
  },
  {
   "cell_type": "code",
   "execution_count": null,
   "id": "bb0afbdd",
   "metadata": {},
   "outputs": [],
   "source": [
    "def run_ppo(num_iterations = 2, num_trajs = 3, length_traj = 50):\n",
    "    dat_file_name = create_info_h5_ppo(agent, env)\n",
    "    for k in range(num_iterations):\n",
    "        ## Data for trajectories\n",
    "        trajs_states = []\n",
    "        trajs_acts = []\n",
    "        all_rews = []\n",
    "        trajs_pri_dim = []\n",
    "        trajs_log_pol = []\n",
    "        len_trajs = []\n",
    "        \n",
    "        ## Run to collect trajs for a maximum of length_traj\n",
    "        for i in range(num_trajs):\n",
    "            ## Episodic data. Keeps track of rewards per traj\n",
    "            print(f'##### {i}th Traj #####')\n",
    "            ep_rews = []\n",
    "            state = env.reset()\n",
    "            done = False\n",
    "\n",
    "            for t_traj in range(length_traj):\n",
    "                # Track observations in this batch\n",
    "                trajs_states.append(state)\n",
    "                \n",
    "                # Calculate action and log policy and perform a step of th env\n",
    "                action, log_policy = agent.act(state)\n",
    "                state, reward, done, info = env.step(action)\n",
    "\n",
    "                # Track recent reward, action, and action log policy\n",
    "                trajs_acts.append(action)\n",
    "                trajs_log_pol.append(log_policy)\n",
    "                trajs_pri_dim.append(env.princp_dim)\n",
    "                ep_rews.append(reward)\n",
    "\n",
    "                if done:\n",
    "                    break\n",
    "            \n",
    "            print('#### Length of ', i, 'th traj is = ', 1 + t_traj)\n",
    "            len_trajs.append(1 + t_traj)\n",
    "            all_rews.append(ep_rews)\n",
    "\n",
    "        # Reshape data as tensors\n",
    "        trajs_states = torch.tensor(trajs_states, dtype=torch.float)\n",
    "        trajs_acts = torch.tensor(trajs_acts, dtype=torch.float)\n",
    "        trajs_log_pol = torch.tensor(trajs_log_pol, dtype=torch.float)\n",
    "        \n",
    "        print('#### Traj action shape', trajs_acts.shape)\n",
    "        \n",
    "        # Run step for learning\n",
    "        agent.step(trajs_states, trajs_acts, trajs_log_pol, all_rews, len_trajs)\n",
    "        torch.save(agent.actor_local.state_dict(), 'checkpoint_actor.pth')\n",
    "        torch.save(agent.critic_local.state_dict(), 'checkpoint_critic.pth')\n",
    "        \n",
    "        ## Save data during training (to not lose the work done)\n",
    "        save_all(dat_file_name=dat_file_name, i_ep=int(k),\\\n",
    "                 sigmas_i_ep=trajs_acts.reshape((num_trajs,1 + t_traj,env.n_pairs)),\\\n",
    "                 rew_i_ep=all_rews, \\\n",
    "                 en_i_ep=trajs_states.reshape((num_trajs,1 + t_traj)), \n",
    "                 pri_dim_i_ep=np.reshape(trajs_pri_dim, (num_trajs,1 + t_traj)), \\\n",
    "                 act_model_i_ep='checkpoint_actor.pth', \\\n",
    "                 cr_model_i_ep='checkpoint_critic.pth')\n",
    "        \n",
    "        # Calculate metrics to print\n",
    "        avg_iter_lens = np.mean(len_trajs)\n",
    "        avg_iter_retur = np.mean([np.sum(ep_rews) for ep_rews in all_rews])\n",
    "        \n",
    "        # Print logging statements\n",
    "        print(flush=True)\n",
    "        print(f\"-------------------- Iteration #{k} --------------------\", flush=True)\n",
    "        print(f\"Average Episodic Length: {avg_iter_lens}\", flush=True)\n",
    "        print(f\"Average Episodic Return: {avg_iter_retur}\", flush=True)\n",
    "        print(f\"Timesteps So Far: {np.sum(len_trajs)}\", flush=True)\n",
    "        print(f\"------------------------------------------------------\", flush=True)\n",
    "        print(flush=True)\n",
    "    return dat_file_name"
   ]
  },
  {
   "cell_type": "code",
   "execution_count": null,
   "id": "d38e99ac",
   "metadata": {},
   "outputs": [],
   "source": [
    "test_ppo = run_ppo()"
   ]
  },
  {
   "cell_type": "code",
   "execution_count": null,
   "id": "4192d998",
   "metadata": {},
   "outputs": [],
   "source": [
    "test_ppo"
   ]
  },
  {
   "cell_type": "markdown",
   "id": "2ec9d72c",
   "metadata": {},
   "source": [
    "## Random search as in original SVM"
   ]
  },
  {
   "cell_type": "code",
   "execution_count": null,
   "id": "8b22bb0b",
   "metadata": {},
   "outputs": [],
   "source": [
    "state = env.reset()\n",
    "scores = []\n",
    "step = 0\n",
    "score = 0.0\n",
    "\n",
    "while True:\n",
    "    print(\".....STEP.....\", step)\n",
    "    action = env.action_space.sample()\n",
    "    next_state, reward, done, info = env.step(action)\n",
    "    step = step + 1\n",
    "    score += reward\n",
    "    scores.append(score)\n",
    "    state = next_state\n",
    "    if done:\n",
    "        break"
   ]
  }
 ],
 "metadata": {
  "kernelspec": {
   "display_name": "Python 3",
   "language": "python",
   "name": "python3"
  },
  "language_info": {
   "codemirror_mode": {
    "name": "ipython",
    "version": 3
   },
   "file_extension": ".py",
   "mimetype": "text/x-python",
   "name": "python",
   "nbconvert_exporter": "python",
   "pygments_lexer": "ipython3",
   "version": "3.8.8"
  }
 },
 "nbformat": 4,
 "nbformat_minor": 5
}
