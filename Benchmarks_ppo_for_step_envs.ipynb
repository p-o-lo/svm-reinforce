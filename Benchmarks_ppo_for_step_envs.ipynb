{
 "cells": [
  {
   "cell_type": "markdown",
   "id": "8bfc434b",
   "metadata": {},
   "source": [
    "# Benchmarcks and plots of SVM PPO step envs"
   ]
  },
  {
   "cell_type": "code",
   "execution_count": null,
   "id": "e806a15b",
   "metadata": {},
   "outputs": [],
   "source": [
    "import numpy as np\n",
    "import h5py\n",
    "\n",
    "import matplotlib\n",
    "import matplotlib.pyplot as plt\n",
    "import itertools\n",
    "from matplotlib import cm\n",
    "from matplotlib import rc\n",
    "rc('font',**{'family':'serif','serif':['Palatino']})\n",
    "rc('text', usetex=True)\n",
    "%load_ext autoreload\n",
    "%autoreload 2\n",
    "from IPython import get_ipython"
   ]
  },
  {
   "cell_type": "code",
   "execution_count": null,
   "id": "0dc07886",
   "metadata": {},
   "outputs": [],
   "source": [
    "## All the data stored in the hdf5 file\n",
    "f = h5py.File('runs_step_envs/run_17.hdf5', 'r')\n",
    "\n",
    "list(f.keys())"
   ]
  },
  {
   "cell_type": "code",
   "execution_count": null,
   "id": "c897894b",
   "metadata": {},
   "outputs": [],
   "source": [
    "## Read file and print its info and hyperparams\n",
    "for k in f['info'].attrs.keys():\n",
    "    print(k, ' : ', f['info'].attrs[k])\n",
    "\n",
    "for k in f['hyperparams'].attrs.keys():\n",
    "    print(k, ' : ', f['hyperparams'].attrs[k])"
   ]
  },
  {
   "cell_type": "code",
   "execution_count": null,
   "id": "4e148493",
   "metadata": {},
   "outputs": [],
   "source": [
    "## Example of data stored and number of episodes\n",
    "num_ep = len(f['rewards'].keys())\n",
    "print('The number of episodes is then:', num_ep)"
   ]
  },
  {
   "cell_type": "code",
   "execution_count": null,
   "id": "833e64cf",
   "metadata": {},
   "outputs": [],
   "source": [
    "## Score data analysis\n",
    "scores = np.zeros(len(f['rewards'].keys()))\n",
    "for i in range(len(f['rewards'].keys())):\n",
    "    scores[i] = np.mean([np.sum(rew_traj) for rew_traj in (f['rewards'][f'rew_ep_{i}'][:])])\n",
    "    \n",
    "## Max and min\n",
    "index_max = np.argmax(scores)\n",
    "index_min = np.argmin(scores)\n",
    "print(f'The max score is at episode {index_max} and is equal to {scores[index_max]}')\n",
    "print(f'The min score is at episode {index_min} and is equal to {scores[index_min]}')\n",
    "    \n",
    "## Plot scores\n",
    "plt.rcParams.update({'font.size': 11})\n",
    "plt.grid(True)\n",
    "plt.ylabel('Score')\n",
    "plt.xlabel('Episode \\#')\n",
    "plt.plot(np.arange(len(scores)), scores)\n",
    "plt.savefig('./graphs/scores_ppo_step_den.pdf', format='pdf', dpi=1000)"
   ]
  },
  {
   "cell_type": "code",
   "execution_count": null,
   "id": "fce3bfe7",
   "metadata": {},
   "outputs": [],
   "source": [
    "## Energies data analysis\n",
    "en_per_ep = np.zeros(num_ep)\n",
    "for i in range(num_ep):\n",
    "    en_ep = f['energies'][f'en_ep_{i}'][:]\n",
    "    en_per_ep[i] = np.mean([min(en_traj) for en_traj in en_ep])\n",
    "    \n",
    "## Max and min\n",
    "index_min = np.argmin(en_per_ep)\n",
    "index_max = np.argmax(en_per_ep)\n",
    "print(f'The min en (BEST CASE) is at episode {index_min} and is equal to {en_per_ep[index_min]}')\n",
    "print(f['energies'][f'en_ep_{index_min}'][:])\n",
    "print(f'The max en (WORST CASE) is at episode {index_max} and is equal to {en_per_ep[index_max]}')\n",
    "print(f['energies'][f'en_ep_{index_max}'][:])\n",
    "\n",
    "## Plot energies over episodes \n",
    "plt.rcParams.update({'font.size': 11})\n",
    "plt.grid(True)\n",
    "plt.ylabel('Mean of last energies of trajectories for Episode (K)')\n",
    "plt.xlabel('Episode \\#')\n",
    "plt.plot(np.arange(len(en_per_ep)), en_per_ep)\n",
    "plt.savefig('./graphs/energies_ppo_step_den.pdf', format='pdf', dpi=1000)"
   ]
  },
  {
   "cell_type": "code",
   "execution_count": null,
   "id": "a9ebd27e",
   "metadata": {},
   "outputs": [],
   "source": [
    "## Pri dims data analysis\n",
    "pri_per_ep = np.zeros(num_ep)\n",
    "for i in range(num_ep):\n",
    "    pri_ep = f['princip_dims'][f'pri_dim_ep_{i}'][:]\n",
    "    pri_per_ep[i] = np.mean([max(pri_traj) for pri_traj in pri_ep])\n",
    "    \n",
    "## Max and min\n",
    "index_min = np.argmin(pri_per_ep)\n",
    "index_max = np.argmax(pri_per_ep)\n",
    "print(f'The biggest pri dim (BEST CASE) is at episode {index_max} and is equal to {pri_per_ep[index_max]}')\n",
    "print(f['energies'][f'en_ep_{index_min}'][:])\n",
    "print(f'The smallest pri dim (WORST CASE) is at episode {index_min} and is equal to {pri_per_ep[index_min]}')\n",
    "print(f['energies'][f'en_ep_{index_min}'][:])\n",
    "\n",
    "## Plot pri dim over episode\n",
    "plt.rcParams.update({'font.size': 11})\n",
    "plt.grid(True)\n",
    "plt.ylabel('Mean of the last principal size of trajectories for episode')\n",
    "plt.xlabel('Episode \\#')\n",
    "plt.plot(np.arange(len(pri_per_ep)), pri_per_ep)\n",
    "plt.savefig('./graphs/pri_dim_ppo_step_den.pdf', format='pdf', dpi=1000)"
   ]
  },
  {
   "cell_type": "code",
   "execution_count": null,
   "id": "5d8756ea",
   "metadata": {},
   "outputs": [],
   "source": [
    "## Rewards of episode with max score\n",
    "rew_max = f['rewards'][f'rew_ep_{index_max}'][:]\n",
    "print(rew_max)\n",
    "rew_of_each_trajs = [np.sum(rew_traj) for rew_traj in(rew_max)]\n",
    "\n",
    "# Plot rew of episode with max score\n",
    "plt.rcParams.update({'font.size': 11})\n",
    "plt.plot(np.arange(len(rew_max)), rew_of_each_trajs)\n",
    "plt.ylabel('Reward')\n",
    "plt.xlabel('# Traj')\n",
    "\n",
    "print('This episode collected a score of = ', np.mean(rew_of_each_trajs))"
   ]
  },
  {
   "cell_type": "code",
   "execution_count": null,
   "id": "415f4ea9",
   "metadata": {},
   "outputs": [],
   "source": [
    "## Plot energies of episode with max score\n",
    "en_max = f['energies'][f'en_ep_{index_max}'][:]\n",
    "print(en_max)\n",
    "\n",
    "# Plot energies of episode with max score\n",
    "plt.rcParams.update({'font.size': 11})\n",
    "plt.plot(np.arange(len(en_max)), [en_max[i,-1] for i in range(len(en_max))])\n",
    "plt.ylabel('Last Energy (K)')\n",
    "plt.xlabel('# Traj')\n",
    "\n",
    "print('The last energy reached is = ',en_max[-1,-1])"
   ]
  },
  {
   "cell_type": "code",
   "execution_count": null,
   "id": "27d0a644",
   "metadata": {},
   "outputs": [],
   "source": [
    "## Plot princip dim of episode with max score\n",
    "pri_max = f['princip_dims'][f'pri_dim_ep_{index_max}'][:]\n",
    "print(pri_max)\n",
    "\n",
    "# Plot pri dim of episode with max score\n",
    "plt.rcParams.update({'font.size': 11})\n",
    "plt.plot(np.arange(len(pri_max)), [pri_max[i,-1] for i in range(len(pri_max))])\n",
    "plt.ylabel('Last Prinicip dim')\n",
    "plt.xlabel('# Traj')\n",
    "\n",
    "print('The last princip dim reached is = ', pri_max[-1,-1])"
   ]
  },
  {
   "cell_type": "code",
   "execution_count": null,
   "id": "86b2c7c2",
   "metadata": {},
   "outputs": [],
   "source": [
    "## Sigmas analysis (comparing with random and the one collected in the epsidoe with max score)\n",
    "\n",
    "sigmas_random = np.loadtxt('sigmas_random.out')\n",
    "sigmas_random_squared = sigmas_random[:,0]**2 + sigmas_random[:,1]**2 + sigmas_random[:,2]**2\n",
    "\n",
    "sigmas_rl = f['sigmas'][f'sigmas_ep_{index_max}'][:]\n",
    "sigmas_rl = sigmas_rl*109/2 + 111/2\n",
    "print(sigmas_rl.shape)\n",
    "sigmas_rl_last = sigmas_rl[-1]\n",
    "print(sigmas_rl_last)\n",
    "sigmas_rl_squared = sigmas_rl_last[:,0]**2 + sigmas_rl_last[:,1]**2 + sigmas_rl_last[:,2]**2\n",
    "\n",
    "# Plot sigmas dist of episode with max score\n",
    "plt.rcParams.update({'font.size': 11})\n",
    "plt.grid(True)\n",
    "plt.ylabel('Counts')\n",
    "plt.xlabel('$\\\\alpha_{12}^2 + \\\\alpha_{13}^2 + \\\\alpha_{23}^2$')\n",
    "plt.hist(sigmas_random_squared, bins=20, alpha=0.5)\n",
    "plt.hist(sigmas_rl_squared, bins=20, alpha=0.5)\n",
    "plt.savefig('./graphs/sigmas_max_ppo_step_den.pdf', format='pdf', dpi=1000)"
   ]
  },
  {
   "cell_type": "code",
   "execution_count": null,
   "id": "5f9adbf6",
   "metadata": {},
   "outputs": [],
   "source": [
    "## Rewards of episode with min score\n",
    "rew_min = f['rewards'][f'rew_ep_{index_min}'][:]\n",
    "print(rew_min)\n",
    "rew_of_each_trajs = [np.sum(rew_traj) for rew_traj in(rew_min)]\n",
    "\n",
    "# Plot rew of episode with min score\n",
    "plt.rcParams.update({'font.size': 11})\n",
    "plt.plot(np.arange(len(rew_min)), rew_of_each_trajs)\n",
    "plt.ylabel('Reward')\n",
    "plt.xlabel('# Traj')\n",
    "\n",
    "print('This episode collected a score of = ', np.mean(rew_of_each_trajs))"
   ]
  },
  {
   "cell_type": "code",
   "execution_count": null,
   "id": "0ac1ab30",
   "metadata": {},
   "outputs": [],
   "source": [
    "## Plot energies of episode with min score\n",
    "en_min = f['energies'][f'en_ep_{index_min}'][:]\n",
    "print(en_min)\n",
    "\n",
    "# Plot energies of episode with min score\n",
    "plt.rcParams.update({'font.size': 11})\n",
    "plt.plot(np.arange(len(en_min)), [en_min[i,-1] for i in range(len(en_min))])\n",
    "plt.ylabel('Last Energy (K)')\n",
    "plt.xlabel('# Traj')\n",
    "\n",
    "print('The last energy reached is = ',en_min[-1,-1])"
   ]
  },
  {
   "cell_type": "code",
   "execution_count": null,
   "id": "3a0d17a4",
   "metadata": {},
   "outputs": [],
   "source": [
    "## Plot princip dim of episode with max score\n",
    "pri_min = f['princip_dims'][f'pri_dim_ep_{index_min}'][:]\n",
    "print(pri_min)\n",
    "\n",
    "# Plot pri dims of episode with max score\n",
    "plt.rcParams.update({'font.size': 11})\n",
    "plt.plot(np.arange(len(pri_min)), [pri_min[i,-1] for i in range(len(pri_min))])\n",
    "plt.ylabel('Last Prinicip dim')\n",
    "plt.xlabel('# Traj')\n",
    "\n",
    "print('The last princip dim reached is = ', pri_min[-1,-1])"
   ]
  },
  {
   "cell_type": "code",
   "execution_count": null,
   "id": "5181b7eb",
   "metadata": {},
   "outputs": [],
   "source": [
    "## Sigmas analysis (comparing with random and the one collected in the epsidoe with min score)\n",
    "\n",
    "sigmas_random = np.loadtxt('sigmas_random.out')\n",
    "sigmas_random_squared = sigmas_random[:,0]**2 + sigmas_random[:,1]**2 + sigmas_random[:,2]**2\n",
    "\n",
    "sigmas_rl = f['sigmas'][f'sigmas_ep_{index_min}'][:]\n",
    "sigmas_rl = sigmas_rl*109/2 + 111/2\n",
    "sigmas_rl_last = sigmas_rl[-1]\n",
    "print(sigmas_rl_last)\n",
    "sigmas_rl_squared = sigmas_rl_last[:,0]**2 + sigmas_rl_last[:,1]**2 + sigmas_rl_last[:,2]**2\n",
    "\n",
    "# Plot sigmas dist of episode with min score\n",
    "plt.rcParams.update({'font.size': 11})\n",
    "plt.grid(True)\n",
    "plt.ylabel('Counts')\n",
    "plt.xlabel('$\\\\alpha_{12}^2 + \\\\alpha_{13}^2 + \\\\alpha_{23}^2$')\n",
    "plt.hist(sigmas_random_squared, bins=20, alpha=0.5)\n",
    "plt.hist(sigmas_rl_squared, bins=20, alpha=0.5)\n",
    "plt.savefig('./graphs/sigmas_min_ppo_step_den.pdf', format='pdf', dpi=1000)"
   ]
  },
  {
   "cell_type": "code",
   "execution_count": null,
   "id": "adcda0c9",
   "metadata": {},
   "outputs": [],
   "source": []
  }
 ],
 "metadata": {
  "kernelspec": {
   "display_name": "Python 3",
   "language": "python",
   "name": "python3"
  },
  "language_info": {
   "codemirror_mode": {
    "name": "ipython",
    "version": 3
   },
   "file_extension": ".py",
   "mimetype": "text/x-python",
   "name": "python",
   "nbconvert_exporter": "python",
   "pygments_lexer": "ipython3",
   "version": "3.8.8"
  }
 },
 "nbformat": 4,
 "nbformat_minor": 5
}
