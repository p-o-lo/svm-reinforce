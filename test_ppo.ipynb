{
 "cells": [
  {
   "cell_type": "markdown",
   "id": "e8af5006",
   "metadata": {},
   "source": [
    "# Test PPO agent in pendulum environment"
   ]
  },
  {
   "cell_type": "code",
   "execution_count": null,
   "id": "1dcdd255",
   "metadata": {},
   "outputs": [],
   "source": [
    "import numpy as np\n",
    "import gym\n",
    "import sys\n",
    "import torch\n",
    "\n",
    "from ppo_agent import PPO_agent\n",
    "\n",
    "device = torch.device(\"cuda:0\" if torch.cuda.is_available() else \"cpu\")"
   ]
  },
  {
   "cell_type": "code",
   "execution_count": null,
   "id": "6fdd63ca",
   "metadata": {},
   "outputs": [],
   "source": [
    "## Explore environment\n",
    "env = gym.make('Pendulum-v0')\n",
    "print('### Env Name ######', env.unwrapped.spec.id)\n",
    "\n",
    "obs_space = env.observation_space\n",
    "\n",
    "print('###### Observation space ####### \\n', obs_space)\n",
    "\n",
    "state_size = env.observation_space.shape[-1]\n",
    "\n",
    "print('###### Size of observation space ####### \\n', state_size)\n",
    "\n",
    "act_space = env.action_space\n",
    "\n",
    "print('###### Action space ####### \\n', act_space)\n",
    "\n",
    "act_size = env.action_space.shape[-1]\n",
    "\n",
    "print('###### Number of actions ####### \\n', act_size)"
   ]
  },
  {
   "cell_type": "code",
   "execution_count": null,
   "id": "d5dc69ec",
   "metadata": {},
   "outputs": [],
   "source": [
    "## Define agent\n",
    "agent = PPO_agent(state_size=state_size, action_size=act_size, seed = 2)\n",
    "\n",
    "## Function to save in hdf5 file during learning\n",
    "def save_score(file_name, data):\n",
    "    # Open data file\n",
    "    dat_file = h5py.File(file_name, 'a')\n",
    "    \n",
    "    # Create datasets for score \n",
    "    dat_file.create_dataset('scores', dtype='f', data=data)"
   ]
  },
  {
   "cell_type": "code",
   "execution_count": null,
   "id": "57fbde72",
   "metadata": {},
   "outputs": [],
   "source": [
    "def run_ppo(num_iterations = 500, num_trajs = 10, length_traj = 200):\n",
    "    scores = []\n",
    "    for k in range(num_iterations):\n",
    "        ## Data for trajectories\n",
    "        trajs_states = []\n",
    "        trajs_acts = []\n",
    "        all_rews = []\n",
    "        trajs_log_pol = []\n",
    "        len_trajs = []\n",
    "        \n",
    "        ## Run to collect trajs for a maximum of length_traj\n",
    "        for i in range(num_trajs):\n",
    "            ## Episodic data. Keeps track of rewards per traj\n",
    "            print(f'##### {i}th Traj #####')\n",
    "            ep_rews = []\n",
    "            state = env.reset()\n",
    "            done = False\n",
    "\n",
    "            for t_traj in range(length_traj):\n",
    "                env.render()\n",
    "                \n",
    "                # Track observations in this batch\n",
    "                trajs_states.append(state)\n",
    "\n",
    "                # Calculate action and log policy and perform a step of th env\n",
    "                action, log_policy = agent.act(state)\n",
    "                state, reward, done, info = env.step(action)\n",
    "                ep_rews.append(reward)\n",
    "\n",
    "                # Track recent reward, action, and action log policy\n",
    "                trajs_acts.append(action)\n",
    "                trajs_log_pol.append(log_policy)\n",
    "\n",
    "                if done:\n",
    "                    break\n",
    "\n",
    "            len_trajs.append(1 + t_traj)\n",
    "            all_rews.append(ep_rews)\n",
    "\n",
    "        # Reshape data as tensors\n",
    "        trajs_states = torch.tensor(trajs_states, dtype=torch.float)\n",
    "        trajs_acts = torch.tensor(trajs_acts, dtype=torch.float)\n",
    "        trajs_log_pol = torch.tensor(trajs_log_pol, dtype=torch.float)\n",
    "\n",
    "        # Run step for learning\n",
    "        agent.step(trajs_states, trajs_acts, trajs_log_pol, all_rews, len_trajs)\n",
    "        \n",
    "        # Calculate metrics to print\n",
    "        avg_iter_lens = np.mean(len_trajs)\n",
    "        avg_iter_retur = np.mean([np.sum(ep_rews) for ep_rews in all_rews])\n",
    "        scores.append(avg_iter_retur)\n",
    "        \n",
    "        # Print logging statements\n",
    "        print(flush=True)\n",
    "        print(f\"-------------------- Iteration #{agent.k_step} --------------------\", flush=True)\n",
    "        print(f\"Average Episodic Length: {avg_iter_lens}\", flush=True)\n",
    "        print(f\"Average Episodic Return: {avg_iter_retur}\", flush=True)\n",
    "        print(f\"Timesteps So Far: {agent.t_step}\", flush=True)\n",
    "        print(f\"------------------------------------------------------\", flush=True)\n",
    "        print(flush=True)\n",
    "    return all_rews, scores"
   ]
  },
  {
   "cell_type": "code",
   "execution_count": null,
   "id": "95f33f6c",
   "metadata": {},
   "outputs": [],
   "source": [
    "all_rews, scores = run_ppo()"
   ]
  },
  {
   "cell_type": "code",
   "execution_count": null,
   "id": "911d753b",
   "metadata": {},
   "outputs": [],
   "source": [
    "import matplotlib.pyplot as plt\n",
    "\n",
    "plt.plot(np.arange(len(scores)), scores)"
   ]
  },
  {
   "cell_type": "code",
   "execution_count": null,
   "id": "b8b055f3",
   "metadata": {},
   "outputs": [],
   "source": []
  }
 ],
 "metadata": {
  "kernelspec": {
   "display_name": "Python 3",
   "language": "python",
   "name": "python3"
  },
  "language_info": {
   "codemirror_mode": {
    "name": "ipython",
    "version": 3
   },
   "file_extension": ".py",
   "mimetype": "text/x-python",
   "name": "python",
   "nbconvert_exporter": "python",
   "pygments_lexer": "ipython3",
   "version": "3.8.8"
  }
 },
 "nbformat": 4,
 "nbformat_minor": 5
}
