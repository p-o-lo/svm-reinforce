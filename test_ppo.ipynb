{
 "cells": [
  {
   "cell_type": "markdown",
   "id": "e8af5006",
   "metadata": {},
   "source": [
    "# Test PPO agent in pendulum environment"
   ]
  },
  {
   "cell_type": "code",
   "execution_count": 1,
   "id": "1dcdd255",
   "metadata": {},
   "outputs": [],
   "source": [
    "import numpy as np\n",
    "import gym\n",
    "import sys\n",
    "import torch\n",
    "\n",
    "from ppo_agent_test import PPO_agent\n",
    "\n",
    "device = torch.device(\"cuda:0\" if torch.cuda.is_available() else \"cpu\")"
   ]
  },
  {
   "cell_type": "code",
   "execution_count": 2,
   "id": "6fdd63ca",
   "metadata": {},
   "outputs": [
    {
     "name": "stdout",
     "output_type": "stream",
     "text": [
      "### Env Name ###### Pendulum-v0\n",
      "###### Observation space ####### \n",
      " Box(-8.0, 8.0, (3,), float32)\n",
      "###### Size of observation space ####### \n",
      " 3\n",
      "###### Action space ####### \n",
      " Box(-2.0, 2.0, (1,), float32)\n",
      "###### Number of actions ####### \n",
      " 1\n"
     ]
    }
   ],
   "source": [
    "## Explore environment\n",
    "env = gym.make('Pendulum-v0')\n",
    "print('### Env Name ######', env.unwrapped.spec.id)\n",
    "\n",
    "obs_space = env.observation_space\n",
    "\n",
    "print('###### Observation space ####### \\n', obs_space)\n",
    "\n",
    "state_size = env.observation_space.shape[-1]\n",
    "\n",
    "print('###### Size of observation space ####### \\n', state_size)\n",
    "\n",
    "act_space = env.action_space\n",
    "\n",
    "print('###### Action space ####### \\n', act_space)\n",
    "\n",
    "act_size = env.action_space.shape[-1]\n",
    "\n",
    "print('###### Number of actions ####### \\n', act_size)"
   ]
  },
  {
   "cell_type": "code",
   "execution_count": 3,
   "id": "d5dc69ec",
   "metadata": {},
   "outputs": [],
   "source": [
    "## Define agent\n",
    "agent = PPO_agent(state_size=state_size, action_size=act_size, seed = 2)\n",
    "\n",
    "## Function to save in hdf5 file during learning\n",
    "def save_score(file_name, data):\n",
    "    # Open data file\n",
    "    dat_file = h5py.File(file_name, 'a')\n",
    "    \n",
    "    # Create datasets for score \n",
    "    dat_file.create_dataset('scores', dtype='f', data=data)"
   ]
  },
  {
   "cell_type": "code",
   "execution_count": 4,
   "id": "57fbde72",
   "metadata": {},
   "outputs": [],
   "source": [
    "def run_ppo(num_iterations = 1000, num_trajs = 900, length_traj = 150):\n",
    "    scores = []\n",
    "    for k in range(num_iterations):\n",
    "        ## Data for trajectories\n",
    "        trajs_states = []\n",
    "        trajs_acts = []\n",
    "        all_rews = []\n",
    "        rews_t_future = []\n",
    "        trajs_log_pol = []\n",
    "        len_trajs = []\n",
    "        \n",
    "        ## Run to collect trajs for a maximum of length_traj\n",
    "        for i in range(num_trajs):\n",
    "            ## Episodic data. Keeps track of rewards per traj\n",
    "            ep_rews = []\n",
    "            state = env.reset()\n",
    "            done = False\n",
    "\n",
    "            for t_traj in range(length_traj):\n",
    "                env.render()\n",
    "                trajs_states.append(state)\n",
    "\n",
    "                # Calculate action and log policy and perform a step of th env\n",
    "                action, log_policy = agent.act(state)\n",
    "                state, reward, done, info = env.step(action)\n",
    "                ep_rews.append(reward)\n",
    "\n",
    "                # Track recent reward, action, and action log policy\n",
    "                trajs_acts.append(action)\n",
    "                trajs_log_pol.append(log_policy)\n",
    "\n",
    "                if done:\n",
    "                    break\n",
    "\n",
    "            len_trajs.append(1 + t_traj)\n",
    "            all_rews.append(ep_rews)\n",
    "\n",
    "        # Reshape data as tensors\n",
    "        trajs_states = torch.tensor(trajs_states, dtype=torch.float).to(device)\n",
    "        trajs_acts = torch.tensor(trajs_acts, dtype=torch.float).to(device)\n",
    "        rews_t_future = agent.compute_return_fut(all_rews).to(device)\n",
    "        trajs_log_pol = torch.tensor(trajs_log_pol, dtype=torch.float).to(device)\n",
    "\n",
    "        # Run step for learning\n",
    "        agent.step(trajs_states, trajs_acts, trajs_log_pol, rews_t_future, len_trajs)\n",
    "        \n",
    "        # Calculate metrics to print\n",
    "        avg_iter_lens = np.mean(len_trajs)\n",
    "        avg_iter_retur = np.mean([np.sum(ep_rews) for ep_rews in all_rews])\n",
    "        scores.append(avg_iter_retur)\n",
    "        save_score('score.hdf5', scores)\n",
    "        \n",
    "        # Print logging statements\n",
    "        print(flush=True)\n",
    "        print(f\"-------------------- Iteration #{agent.k_step} --------------------\", flush=True)\n",
    "        print(f\"Average Episodic Length: {avg_iter_lens}\", flush=True)\n",
    "        print(f\"Average Episodic Return: {avg_iter_retur}\", flush=True)\n",
    "        print(f\"Timesteps So Far: {agent.t_step}\", flush=True)\n",
    "        print(f\"------------------------------------------------------\", flush=True)\n",
    "        print(flush=True)\n",
    "    return scores"
   ]
  },
  {
   "cell_type": "code",
   "execution_count": 5,
   "id": "95f33f6c",
   "metadata": {},
   "outputs": [
    {
     "name": "stderr",
     "output_type": "stream",
     "text": [
      "<ipython-input-4-403614f4175e>:39: UserWarning: Creating a tensor from a list of numpy.ndarrays is extremely slow. Please consider converting the list to a single numpy.ndarray with numpy.array() before converting to a tensor. (Triggered internally at  ../torch/csrc/utils/tensor_new.cpp:201.)\n",
      "  trajs_states = torch.tensor(trajs_states, dtype=torch.float).to(device)\n"
     ]
    },
    {
     "ename": "NameError",
     "evalue": "name 'save_score' is not defined",
     "output_type": "error",
     "traceback": [
      "\u001b[0;31m---------------------------------------------------------------------------\u001b[0m",
      "\u001b[0;31mNameError\u001b[0m                                 Traceback (most recent call last)",
      "\u001b[0;32m<ipython-input-5-cb84b96047d7>\u001b[0m in \u001b[0;36m<module>\u001b[0;34m\u001b[0m\n\u001b[0;32m----> 1\u001b[0;31m \u001b[0mscores\u001b[0m \u001b[0;34m=\u001b[0m \u001b[0mrun_ppo\u001b[0m\u001b[0;34m(\u001b[0m\u001b[0;34m)\u001b[0m\u001b[0;34m\u001b[0m\u001b[0;34m\u001b[0m\u001b[0m\n\u001b[0m",
      "\u001b[0;32m<ipython-input-4-403614f4175e>\u001b[0m in \u001b[0;36mrun_ppo\u001b[0;34m(num_iterations, num_trajs, length_traj)\u001b[0m\n\u001b[1;32m     49\u001b[0m         \u001b[0mavg_iter_retur\u001b[0m \u001b[0;34m=\u001b[0m \u001b[0mnp\u001b[0m\u001b[0;34m.\u001b[0m\u001b[0mmean\u001b[0m\u001b[0;34m(\u001b[0m\u001b[0;34m[\u001b[0m\u001b[0mnp\u001b[0m\u001b[0;34m.\u001b[0m\u001b[0msum\u001b[0m\u001b[0;34m(\u001b[0m\u001b[0mep_rews\u001b[0m\u001b[0;34m)\u001b[0m \u001b[0;32mfor\u001b[0m \u001b[0mep_rews\u001b[0m \u001b[0;32min\u001b[0m \u001b[0mall_rews\u001b[0m\u001b[0;34m]\u001b[0m\u001b[0;34m)\u001b[0m\u001b[0;34m\u001b[0m\u001b[0;34m\u001b[0m\u001b[0m\n\u001b[1;32m     50\u001b[0m         \u001b[0mscores\u001b[0m\u001b[0;34m.\u001b[0m\u001b[0mappend\u001b[0m\u001b[0;34m(\u001b[0m\u001b[0mavg_iter_retur\u001b[0m\u001b[0;34m)\u001b[0m\u001b[0;34m\u001b[0m\u001b[0;34m\u001b[0m\u001b[0m\n\u001b[0;32m---> 51\u001b[0;31m         \u001b[0msave_score\u001b[0m\u001b[0;34m(\u001b[0m\u001b[0;34m'score.hdf5'\u001b[0m\u001b[0;34m,\u001b[0m \u001b[0mscores\u001b[0m\u001b[0;34m)\u001b[0m\u001b[0;34m\u001b[0m\u001b[0;34m\u001b[0m\u001b[0m\n\u001b[0m\u001b[1;32m     52\u001b[0m \u001b[0;34m\u001b[0m\u001b[0m\n\u001b[1;32m     53\u001b[0m         \u001b[0;31m# Print logging statements\u001b[0m\u001b[0;34m\u001b[0m\u001b[0;34m\u001b[0m\u001b[0;34m\u001b[0m\u001b[0m\n",
      "\u001b[0;31mNameError\u001b[0m: name 'save_score' is not defined"
     ]
    }
   ],
   "source": [
    "scores = run_ppo()"
   ]
  },
  {
   "cell_type": "code",
   "execution_count": null,
   "id": "911d753b",
   "metadata": {},
   "outputs": [],
   "source": []
  }
 ],
 "metadata": {
  "kernelspec": {
   "display_name": "Python 3",
   "language": "python",
   "name": "python3"
  },
  "language_info": {
   "codemirror_mode": {
    "name": "ipython",
    "version": 3
   },
   "file_extension": ".py",
   "mimetype": "text/x-python",
   "name": "python",
   "nbconvert_exporter": "python",
   "pygments_lexer": "ipython3",
   "version": "3.8.8"
  }
 },
 "nbformat": 4,
 "nbformat_minor": 5
}
